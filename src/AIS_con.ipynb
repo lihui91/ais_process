{
 "cells": [
  {
   "cell_type": "code",
   "execution_count": 2,
   "id": "c9d34290",
   "metadata": {
    "ExecuteTime": {
     "end_time": "2024-03-13T10:08:56.324334Z",
     "start_time": "2024-03-13T10:08:55.189040Z"
    }
   },
   "outputs": [],
   "source": [
    "import os\n",
    "import pandas as pd"
   ]
  },
  {
   "cell_type": "code",
   "execution_count": 5,
   "id": "2f8366dc",
   "metadata": {
    "ExecuteTime": {
     "end_time": "2024-03-13T10:13:25.193713Z",
     "start_time": "2024-03-13T10:10:27.611265Z"
    }
   },
   "outputs": [],
   "source": [
    "# 9.01-9.30 as test set 30d (244,274)\n",
    "# 8.01-8.31 as validation set 31d (213,244)\n",
    "# 1.1 - 7.31 as training set 212d (1,213)\n",
    "# left closed right open\n",
    "\n",
    "# Get file path list\n",
    "# Mon = 2 #Month\n",
    "\n",
    "directory = 'F:AIS_2023/east_coast/ais_2023/'\n",
    "file_paths = [f for f in os.listdir(directory) if f.startswith(\"ais_\")]\n",
    "\n",
    "file_paths = sorted(file_paths, key=lambda x: int(x.split('_')[-1].split('.')[0]))\n",
    "\n",
    "# print(file_paths)\n",
    "\n",
    "dfs = []\n",
    "# for file_path in file_paths:\n",
    "for i in range(1,213):\n",
    "    file_path = f\"ais_{i}.csv\"\n",
    "    df = pd.read_csv(os.path.join(directory, file_path))\n",
    "    dfs.append(df)\n",
    "\n",
    "combined_df = pd.concat(dfs)\n",
    "\n",
    "combined_df.to_csv(os.path.join('F:AIS_2023/east_coast/', 'east_coast_ais_train_2023.csv'), index=False) # 手动修改"
   ]
  }
 ],
 "metadata": {
  "hide_input": false,
  "kernelspec": {
   "display_name": "Python 3 (ipykernel)",
   "language": "python",
   "name": "python3"
  },
  "language_info": {
   "codemirror_mode": {
    "name": "ipython",
    "version": 3
   },
   "file_extension": ".py",
   "mimetype": "text/x-python",
   "name": "python",
   "nbconvert_exporter": "python",
   "pygments_lexer": "ipython3",
   "version": "3.8.5"
  },
  "varInspector": {
   "cols": {
    "lenName": 16,
    "lenType": 16,
    "lenVar": 40
   },
   "kernels_config": {
    "python": {
     "delete_cmd_postfix": "",
     "delete_cmd_prefix": "del ",
     "library": "var_list.py",
     "varRefreshCmd": "print(var_dic_list())"
    },
    "r": {
     "delete_cmd_postfix": ") ",
     "delete_cmd_prefix": "rm(",
     "library": "var_list.r",
     "varRefreshCmd": "cat(var_dic_list()) "
    }
   },
   "types_to_exclude": [
    "module",
    "function",
    "builtin_function_or_method",
    "instance",
    "_Feature"
   ],
   "window_display": false
  }
 },
 "nbformat": 4,
 "nbformat_minor": 5
}
